{
  "nbformat": 4,
  "nbformat_minor": 0,
  "metadata": {
    "colab": {
      "provenance": [],
      "authorship_tag": "ABX9TyOTArCApZkEoJNZ/hOSKPeY",
      "include_colab_link": true
    },
    "kernelspec": {
      "name": "python3",
      "display_name": "Python 3"
    },
    "language_info": {
      "name": "python"
    }
  },
  "cells": [
    {
      "cell_type": "markdown",
      "metadata": {
        "id": "view-in-github",
        "colab_type": "text"
      },
      "source": [
        "<a href=\"https://colab.research.google.com/github/ktg6569/0701/blob/main/0701.ipynb\" target=\"_parent\"><img src=\"https://colab.research.google.com/assets/colab-badge.svg\" alt=\"Open In Colab\"/></a>"
      ]
    },
    {
      "cell_type": "code",
      "execution_count": null,
      "metadata": {
        "colab": {
          "base_uri": "https://localhost:8080/"
        },
        "id": "ZZcAfH1xXWcQ",
        "outputId": "9930e947-00f8-4fc5-b31e-ea9003c811e5"
      },
      "outputs": [
        {
          "output_type": "stream",
          "name": "stdout",
          "text": [
            "디버그 출력\n",
            "{'앞': 15.0, '왼쪽': 15.0, '오른쪽': 15.0}\n"
          ]
        }
      ],
      "source": [
        "def init_sensors():\n",
        "  sensors={\n",
        "      \"앞\":15.0,\n",
        "      \"왼쪽\":15.0,\n",
        "      \"오른쪽\":15.0\n",
        "  }\n",
        "\n",
        "  print(\"디버그 출력\")\n",
        "  return sensors\n",
        "\n",
        "if __name__==\"__main__\":\n",
        "  sensors=init_sensors()\n",
        "  print(sensors)"
      ]
    },
    {
      "cell_type": "code",
      "source": [
        "def scan_front(x,y,obstacles,sensors):\n",
        "  sensors={\n",
        "      \"앞\":15.0,\n",
        "      \"왼쪽\":15.0,\n",
        "      \"오른쪽\":15.0\n",
        "  }\n",
        "\n",
        "  print(\"앞쪽 스캔 시작\")\n",
        "\n",
        "  if (x,y+1) in obstacles:\n",
        "    print(\"앞쪽 1칸 장애물 발견\")\n",
        "    sensors[\"앞\"]=1.0\n",
        "  elif (x,y+2) in obstacles:\n",
        "    print(\"앞쪽 2칸 장애물 발견\")\n",
        "    sensors[\"앞\"]=2.0\n",
        "  elif (x,y+3) in obstacles:\n",
        "    print(\"앞쪽 3칸 장애물 발견\")\n",
        "    sensors[\"앞\"]=3.0\n",
        "  elif (x,y+4) in obstacles:\n",
        "    print(\"앞쪽 장애물 없음\")\n",
        "\n",
        "\n",
        "  return sensors"
      ],
      "metadata": {
        "id": "dm1kukcEhHve"
      },
      "execution_count": null,
      "outputs": []
    },
    {
      "cell_type": "code",
      "source": [
        "def scan_front(x, y, obstacles, sensors):\n",
        "    print(\"왼쪽 스캔 시작\")\n",
        "\n",
        "    if (x-1, y) in obstacles:\n",
        "        print(\"왼쪽 1칸 장애물 발견\")\n",
        "        sensors[\"왼쪽\"] = 1.0\n",
        "    elif (x-2, y) in obstacles:\n",
        "        print(\"왼쪽 2칸 장애물 발견\")\n",
        "        sensors[\"왼쪽\"] = 2.0\n",
        "    elif (x-3, y) in obstacles:\n",
        "        print(\"왼쪽 3칸 장애물 발견\")\n",
        "        sensors[\"왼쪽\"] = 3.0\n",
        "    else:\n",
        "        print(\"왼쪽 장애물 없음 (센서값 15.0 유지)\")\n",
        "        sensors[\"왼쪽\"] = 15.0\n",
        "\n",
        "    print(\"왼쪽 스캔 완료\")"
      ],
      "metadata": {
        "id": "u3zgzGj5AdB1"
      },
      "execution_count": null,
      "outputs": []
    },
    {
      "cell_type": "code",
      "source": [
        "def scan_front(x, y, obstacles, sensors):\n",
        "    print(\"오른쪽 스캔 시작\")\n",
        "\n",
        "    if (x+1, y) in obstacles:\n",
        "        print(\"오른쪽 1칸 장애물 발견\")\n",
        "        sensors[\"오른쪽\"] = 1.0\n",
        "    elif (x+2, y) in obstacles:\n",
        "        print(\"오른쪽 2칸 장애물 발견\")\n",
        "        sensors[\"오른쪽\"] = 2.0\n",
        "    elif (x+3, y) in obstacles:\n",
        "        print(\"오른쪽 3칸 장애물 발견\")\n",
        "        sensors[\"오른쪽\"] = 3.0\n",
        "    else:\n",
        "        print(\"오른쪽 장애물 없음 (센서값 15.0 유지)\")\n",
        "        sensors[\"오른쪽\"] = 15.0\n",
        "\n",
        "    print(\"오른쪽 스캔 완료\")"
      ],
      "metadata": {
        "id": "6H7xZrNXAex0"
      },
      "execution_count": null,
      "outputs": []
    },
    {
      "cell_type": "code",
      "source": [
        "def update_sensor_data(position, obstacles):\n",
        "    print(\"함수 시작\")\n",
        "\n",
        "    x = position[\"x\"]\n",
        "    y = position[\"y\"]\n",
        "    print(\"위치 추출 완료\")\n",
        "    print(f\"현재 위치: x={x}, y={y}\")\n",
        "\n",
        "\n",
        "    sensors = init_sensors()\n",
        "\n",
        "    scan_front(x, y, obstacles, sensors)\n",
        "    scan_left(x, y, obstacles, sensors)\n",
        "    scan_right(x, y, obstacles, sensors)\n",
        "\n",
        "    print(\"센서 업데이트 완료\")\n",
        "    print(\"최종 센서값:\", sensors)\n",
        "\n",
        "    return sensors"
      ],
      "metadata": {
        "id": "c3NpW4aSAf7H"
      },
      "execution_count": null,
      "outputs": []
    }
  ]
}